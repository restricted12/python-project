{
 "cells": [
  {
   "cell_type": "code",
   "execution_count": 1,
   "id": "71484d36-b4c8-410e-86c7-359c58a7348d",
   "metadata": {},
   "outputs": [
    {
     "name": "stdin",
     "output_type": "stream",
     "text": [
      "Enter movie title:  spider man\n"
     ]
    },
    {
     "name": "stdout",
     "output_type": "stream",
     "text": [
      "{'Title': 'Spider Man: Lost Cause', 'Year': '2014', 'Rated': 'N/A', 'Released': '26 Sep 2014', 'Runtime': '140 min', 'Genre': 'Action, Adventure, Comedy', 'Director': 'Joey Lever', 'Writer': 'Steve Ditko, Stan Lee, Joey Lever', 'Actors': 'Joey Lever, Craig Ellis, Teravis Ward', 'Plot': 'Peter Parker a lone child discovers that his parents were in a horrifying plot to make mankind change. getting bitten by his fathers invention he develops super powers to tries to find answers to his whole life, try and juggle a r...', 'Language': 'English', 'Country': 'United Kingdom', 'Awards': 'N/A', 'Poster': 'https://m.media-amazon.com/images/M/MV5BYmZkYWRlNWQtOGY0Zi00MWZkLWJiZTktNjRjMDY4MTU2YzAyXkEyXkFqcGdeQXVyMzYzNzc1NjY@._V1_SX300.jpg', 'Ratings': [{'Source': 'Internet Movie Database', 'Value': '4.0/10'}], 'Metascore': 'N/A', 'imdbRating': '4.0', 'imdbVotes': '474', 'imdbID': 'tt2803854', 'Type': 'movie', 'DVD': 'N/A', 'BoxOffice': 'N/A', 'Production': 'N/A', 'Website': 'N/A', 'Response': 'True'}\n"
     ]
    }
   ],
   "source": [
    "import requests\n",
    "\n",
    "# Define the API URL and key\n",
    "api_key = \"874ded9d\"  # Replace with your actual OMDB API key\n",
    "api_url = \"http://www.omdbapi.com/\"\n",
    "\n",
    "# Get movie title from user input\n",
    "movie_title = input(\"Enter movie title: \")\n",
    "\n",
    "# Define the parameters for the search API request\n",
    "params = {\n",
    "    \"apikey\": api_key,\n",
    "    \"t\": movie_title  # Use the user-provided title for search\n",
    "}\n",
    "\n",
    "# Make the search API request\n",
    "response = requests.get(api_url, params=params)\n",
    "\n",
    "# Check if the request was successful\n",
    "if response.status_code == 200:\n",
    "    data = response.json()  # Parse JSON data from response\n",
    "    print(data)\n",
    "else:\n",
    "    print(\"Error:\", response.status_code)\n"
   ]
  },
  {
   "cell_type": "code",
   "execution_count": 4,
   "id": "f76e40ac-b41a-4e46-8577-8a4676b3bc60",
   "metadata": {},
   "outputs": [
    {
     "name": "stdin",
     "output_type": "stream",
     "text": [
      "Enter movie title:  home alone\n"
     ]
    },
    {
     "name": "stdout",
     "output_type": "stream",
     "text": [
      "{'Search': [{'Title': 'Home Alone', 'Year': '1990', 'imdbID': 'tt0099785', 'Type': 'movie', 'Poster': 'https://m.media-amazon.com/images/M/MV5BMzFkM2YwOTQtYzk2Mi00N2VlLWE3NTItN2YwNDg1YmY0ZDNmXkEyXkFqcGdeQXVyMTMxODk2OTU@._V1_SX300.jpg'}, {'Title': 'Home Alone 2: Lost in New York', 'Year': '1992', 'imdbID': 'tt0104431', 'Type': 'movie', 'Poster': 'https://m.media-amazon.com/images/M/MV5BNDI1MzM0Y2YtYmIyMS00ODE3LTlhZjEtZTUyNmEzMTNhZWU5XkEyXkFqcGdeQXVyMTQxNzMzNDI@._V1_SX300.jpg'}, {'Title': 'Home Alone 3', 'Year': '1997', 'imdbID': 'tt0119303', 'Type': 'movie', 'Poster': 'https://m.media-amazon.com/images/M/MV5BZTJhYjVhOWMtYTUyOS00NWM0LThjNzYtZWYxOTkwN2FhODg2XkEyXkFqcGdeQXVyMTQxNzMzNDI@._V1_SX300.jpg'}, {'Title': 'Home Alone 4: Taking Back the House', 'Year': '2002', 'imdbID': 'tt0329200', 'Type': 'movie', 'Poster': 'https://m.media-amazon.com/images/M/MV5BZGZmNDUzOWMtZWRjMC00NjRkLTkyNjQtMDA4YWNhZWY4NjI3XkEyXkFqcGc@._V1_SX300.jpg'}, {'Title': 'A Girl Walks Home Alone at Night', 'Year': '2014', 'imdbID': 'tt2326554', 'Type': 'movie', 'Poster': 'https://m.media-amazon.com/images/M/MV5BMjMzNjMyMjU2M15BMl5BanBnXkFtZTgwMzA3NjQ0MzE@._V1_SX300.jpg'}, {'Title': 'Home Sweet Home Alone', 'Year': '2021', 'imdbID': 'tt11012066', 'Type': 'movie', 'Poster': 'https://m.media-amazon.com/images/M/MV5BMDlkMzZiM2EtZDMxZC00ZWUwLTliMDMtMGMzMzE3NTEzMThiXkEyXkFqcGdeQXVyMTEzMTI1Mjk3._V1_SX300.jpg'}, {'Title': 'Home Alone: The Holiday Heist', 'Year': '2012', 'imdbID': 'tt2308733', 'Type': 'movie', 'Poster': 'https://m.media-amazon.com/images/M/MV5BMzg2MDYyODMtMDhkYS00MWIyLWI2ZjItYmUwNmFjYjRhMWM3XkEyXkFqcGdeQXVyNDgyODgxNjE@._V1_SX300.jpg'}, {'Title': 'Home Alone 4', 'Year': '2002', 'imdbID': 'tt13677540', 'Type': 'movie', 'Poster': 'https://m.media-amazon.com/images/M/MV5BOGFlNjMyOTYtNjRkZi00MTljLTgyN2EtNDQ5MjFlMmZkNDJiXkEyXkFqcGdeQXVyMzc5MTE4NzY@._V1_SX300.jpg'}, {'Title': 'Google Assistant: Home Alone Again', 'Year': '2018', 'imdbID': 'tt9493634', 'Type': 'movie', 'Poster': 'https://m.media-amazon.com/images/M/MV5BOWFkZGYxZjUtMmNlMi00NzYxLWI0M2EtYmY2ZDA5YmMyMDE3XkEyXkFqcGdeQXVyNDE5MTU2MDE@._V1_SX300.jpg'}, {'Title': 'Home, Not Alone', 'Year': '2023', 'imdbID': 'tt26458500', 'Type': 'movie', 'Poster': 'https://m.media-amazon.com/images/M/MV5BOWY5OTI4MjctZTI1ZC00ZmU3LTg4Y2YtYTZiODY5NmI3Yzg1XkEyXkFqcGdeQXVyMTU0NjY0NDg@._V1_SX300.jpg'}], 'totalResults': '98', 'Response': 'True'}\n"
     ]
    }
   ],
   "source": [
    "import requests\n",
    "\n",
    "# Define the API URL and key\n",
    "api_key = \"874ded9d\"  # Replace with your actual OMDB API key\n",
    "api_url = \"http://www.omdbapi.com/\"\n",
    "\n",
    "# Get movie title from user input\n",
    "movie_title = input(\"Enter movie title: \")\n",
    "\n",
    "# Define the parameters for the search API request\n",
    "params = {\n",
    "    \"apikey\": api_key,\n",
    "    \"s\": movie_title  # Use the user-provided title for search\n",
    "}\n",
    "\n",
    "# Make the search API request\n",
    "response = requests.get(api_url, params=params)\n",
    "\n",
    "# Check if the request was successful\n",
    "if response.status_code == 200:\n",
    "    data = response.json()  # Parse JSON data from response\n",
    "    print(data)\n",
    "else:\n",
    "    print(\"Error:\", response.status_code)\n"
   ]
  },
  {
   "cell_type": "code",
   "execution_count": 5,
   "id": "a5ad79f0-45e2-44cb-bd0d-1795a796ca8a",
   "metadata": {},
   "outputs": [
    {
     "name": "stdout",
     "output_type": "stream",
     "text": [
      "Found 10 movie(s) with the title 'home alone':\n",
      "\n",
      "Title: Home Alone\n",
      "Year: 1990\n",
      "Type: movie\n",
      "Poster URL: https://m.media-amazon.com/images/M/MV5BMzFkM2YwOTQtYzk2Mi00N2VlLWE3NTItN2YwNDg1YmY0ZDNmXkEyXkFqcGdeQXVyMTMxODk2OTU@._V1_SX300.jpg\n",
      "Genre: Comedy, Family\n",
      "IMDb Rating: 7.7/10\n",
      "\n",
      "Title: Home Alone 2: Lost in New York\n",
      "Year: 1992\n",
      "Type: movie\n",
      "Poster URL: https://m.media-amazon.com/images/M/MV5BNDI1MzM0Y2YtYmIyMS00ODE3LTlhZjEtZTUyNmEzMTNhZWU5XkEyXkFqcGdeQXVyMTQxNzMzNDI@._V1_SX300.jpg\n",
      "Genre: Adventure, Comedy, Crime\n",
      "IMDb Rating: 6.9/10\n",
      "\n",
      "Title: Home Alone 3\n",
      "Year: 1997\n",
      "Type: movie\n",
      "Poster URL: https://m.media-amazon.com/images/M/MV5BZTJhYjVhOWMtYTUyOS00NWM0LThjNzYtZWYxOTkwN2FhODg2XkEyXkFqcGdeQXVyMTQxNzMzNDI@._V1_SX300.jpg\n",
      "Genre: Action, Comedy, Crime\n",
      "IMDb Rating: 4.6/10\n",
      "\n",
      "Title: Home Alone 4: Taking Back the House\n",
      "Year: 2002\n",
      "Type: movie\n",
      "Poster URL: https://m.media-amazon.com/images/M/MV5BZGZmNDUzOWMtZWRjMC00NjRkLTkyNjQtMDA4YWNhZWY4NjI3XkEyXkFqcGc@._V1_SX300.jpg\n",
      "Genre: Comedy, Crime, Family\n",
      "IMDb Rating: 2.6/10\n",
      "\n",
      "Title: A Girl Walks Home Alone at Night\n",
      "Year: 2014\n",
      "Type: movie\n",
      "Poster URL: https://m.media-amazon.com/images/M/MV5BMjMzNjMyMjU2M15BMl5BanBnXkFtZTgwMzA3NjQ0MzE@._V1_SX300.jpg\n",
      "Genre: Drama, Horror, Romance\n",
      "IMDb Rating: 6.9/10\n",
      "\n",
      "Title: Home Sweet Home Alone\n",
      "Year: 2021\n",
      "Type: movie\n",
      "Poster URL: https://m.media-amazon.com/images/M/MV5BMDlkMzZiM2EtZDMxZC00ZWUwLTliMDMtMGMzMzE3NTEzMThiXkEyXkFqcGdeQXVyMTEzMTI1Mjk3._V1_SX300.jpg\n",
      "Genre: Comedy, Crime, Family\n",
      "IMDb Rating: 3.6/10\n",
      "\n",
      "Title: Home Alone: The Holiday Heist\n",
      "Year: 2012\n",
      "Type: movie\n",
      "Poster URL: https://m.media-amazon.com/images/M/MV5BMzg2MDYyODMtMDhkYS00MWIyLWI2ZjItYmUwNmFjYjRhMWM3XkEyXkFqcGdeQXVyNDgyODgxNjE@._V1_SX300.jpg\n",
      "Genre: Comedy, Crime, Family\n",
      "IMDb Rating: 3.5/10\n",
      "\n",
      "Title: Home Alone 4\n",
      "Year: 2002\n",
      "Type: movie\n",
      "Poster URL: https://m.media-amazon.com/images/M/MV5BOGFlNjMyOTYtNjRkZi00MTljLTgyN2EtNDQ5MjFlMmZkNDJiXkEyXkFqcGdeQXVyMzc5MTE4NzY@._V1_SX300.jpg\n",
      "Genre: Comedy, Crime, Family\n",
      "IMDb Rating: 2.8/10\n",
      "\n",
      "Title: Google Assistant: Home Alone Again\n",
      "Year: 2018\n",
      "Type: movie\n",
      "Poster URL: https://m.media-amazon.com/images/M/MV5BOWFkZGYxZjUtMmNlMi00NzYxLWI0M2EtYmY2ZDA5YmMyMDE3XkEyXkFqcGdeQXVyNDE5MTU2MDE@._V1_SX300.jpg\n",
      "Genre: Short, Comedy\n",
      "IMDb Rating: 8.3/10\n",
      "\n",
      "Title: Home, Not Alone\n",
      "Year: 2023\n",
      "Type: movie\n",
      "Poster URL: https://m.media-amazon.com/images/M/MV5BOWY5OTI4MjctZTI1ZC00ZmU3LTg4Y2YtYTZiODY5NmI3Yzg1XkEyXkFqcGdeQXVyMTU0NjY0NDg@._V1_SX300.jpg\n",
      "Genre: Drama, Mystery, Thriller\n",
      "IMDb Rating: 4.4/10\n"
     ]
    }
   ],
   "source": [
    "import requests\n",
    "\n",
    "if data.get(\"Response\") == \"True\":  # Check if the search was successful\n",
    "    movies = data.get(\"Search\", [])  # Get the list of movies\n",
    "\n",
    "    if movies:\n",
    "        print(f\"Found {len(movies)} movie(s) with the title '{movie_title}':\")\n",
    "        for movie in movies:\n",
    "            print(\"\\nTitle:\", movie.get(\"Title\"))\n",
    "            print(\"Year:\", movie.get(\"Year\"))\n",
    "            print(\"Type:\", movie.get(\"Type\"))\n",
    "            print(\"Poster URL:\", movie.get(\"Poster\"))\n",
    "            \n",
    "            # Fetch detailed information for each movie\n",
    "            movie_id = movie.get(\"imdbID\")\n",
    "            movie_params = {\n",
    "                \"apikey\": api_key,\n",
    "                \"i\": movie_id\n",
    "            }\n",
    "            movie_response = requests.get(api_url, params=movie_params)\n",
    "            \n",
    "            if movie_response.status_code == 200:\n",
    "                movie_data = movie_response.json()\n",
    "                \n",
    "                # Fetch genre from the detailed movie info\n",
    "                genre = movie_data.get(\"Genre\", 'N/A')  # Default to 'N/A' if genre is not found\n",
    "                print(\"Genre:\", genre)\n",
    "                \n",
    "                # Fetch IMDb rating\n",
    "                imdb_rating = 'N/A'  # Default value if IMDb rating is not found\n",
    "                for rating in movie_data.get(\"Ratings\", []):\n",
    "                    if rating.get('Source') == 'Internet Movie Database':\n",
    "                        imdb_rating = rating.get('Value', 'N/A')\n",
    "                        break\n",
    "                \n",
    "                print(\"IMDb Rating:\", imdb_rating)\n",
    "            else:\n",
    "                print(f\"Error fetching detailed movie info: {movie_response.status_code}\")\n",
    "    else:\n",
    "        print(f\"No movies found with the title '{movie_title}'.\")\n",
    "else:\n",
    "    print(f\"Error: {data.get('Error')}\")\n"
   ]
  },
  {
   "cell_type": "code",
   "execution_count": 6,
   "id": "17c94a17-3c1e-40b1-bf49-681989de8e23",
   "metadata": {},
   "outputs": [
    {
     "name": "stdin",
     "output_type": "stream",
     "text": [
      "Enter a year to filter movies:  2005\n"
     ]
    }
   ],
   "source": [
    "\n",
    "user_year = input(\"Enter a year to filter movies: \")\n",
    "\n",
    "# Convert user input to integer for comparison\n",
    "user_year = int(user_year)\n",
    "\n",
    "# Filter and print movies based on the user's year\n",
    "for movie in movies:\n",
    "    # Convert movie year to integer for comparison\n",
    "    movie_year = int(movie[\"Year\"])\n",
    "    if movie_year == user_year:\n",
    "        print(\"\\nTitle:\", movie.get(\"Title\"))\n",
    "        print(\"Year:\", movie.get(\"Year\"))\n",
    "        print(\"Type:\", movie.get(\"Type\"))\n",
    "        print(\"Poster URL:\", movie.get(\"Poster\"))\n",
    "\n",
    "        movie_id = movie.get(\"imdbID\")\n",
    "        movie_params = {\n",
    "            \"apikey\": api_key,\n",
    "            \"i\": movie_id\n",
    "        }\n",
    "        movie_response = requests.get(api_url, params=movie_params)\n",
    "            \n",
    "        if movie_response.status_code == 200:\n",
    "            movie_data = movie_response.json()\n",
    "                \n",
    "            # Fetch genre from the detailed movie info\n",
    "            genre = movie_data.get(\"Genre\", 'N/A')  # Default to 'N/A' if genre is not found\n",
    "            print(\"Genre:\", genre)\n",
    "            \n",
    "            imdb_rating = 'N/A'  # Default value if IMDb rating is not found\n",
    "            for rating in movie_data.get(\"Ratings\", []):\n",
    "                if rating.get('Source') == 'Internet Movie Database':\n",
    "                    imdb_rating = rating.get('Value', 'N/A')\n",
    "                    break\n",
    "\n",
    "            print(\"IMDb Rating:\", imdb_rating)\n",
    "        else:\n",
    "            print(\"Error fetching movie details.\")\n"
   ]
  },
  {
   "cell_type": "code",
   "execution_count": 7,
   "id": "36a81879-7150-4cb9-ab6f-e30c5656af3e",
   "metadata": {},
   "outputs": [
    {
     "name": "stdin",
     "output_type": "stream",
     "text": [
      "Enter the movie name:  home alone\n"
     ]
    },
    {
     "data": {
      "image/png": "[encoded data removed]",
      "text/plain": [
       "<Figure size 640x480 with 1 Axes>"
      ]
     },
     "metadata": {},
     "output_type": "display_data"
    }
   ],
   "source": [
    "import requests\n",
    "import matplotlib.pyplot as plt\n",
    "\n",
    "# User input for the movie title\n",
    "movie_title = input(\"Enter the movie name: \")\n",
    "\n",
    "# Your OMDb API key (replace with your actual API key)\n",
    "api_key = \"874ded9d\"\n",
    "api_url = \"http://www.omdbapi.com/\"\n",
    "\n",
    "# Request parameters for the movie search\n",
    "params = {\n",
    "    \"apikey\": api_key,\n",
    "    \"s\": movie_title  # 's' is for searching by movie title\n",
    "}\n",
    "\n",
    "# Sending the request to OMDb API\n",
    "response = requests.get(api_url, params=params)\n",
    "\n",
    "# Check if the request was successful (status code 200)\n",
    "if response.status_code == 200:\n",
    "    data = response.json()  # Parse the JSON response\n",
    "    \n",
    "    # Check if the API found movies for the search query\n",
    "    if data.get(\"Response\") == \"True\":\n",
    "        movies = data.get(\"Search\", [])  # Get the list of movies\n",
    "        \n",
    "        titles = []  # List to store movie titles\n",
    "        ratings = []  # List to store IMDb ratings\n",
    "\n",
    "        # Loop through each movie and get its detailed information\n",
    "        for movie in movies:\n",
    "            movie_id = movie.get(\"imdbID\")  # Get the IMDb ID of the movie\n",
    "            movie_params = {\n",
    "                \"apikey\": api_key,\n",
    "                \"i\": movie_id  # 'i' is for searching by IMDb ID\n",
    "            }\n",
    "            movie_response = requests.get(api_url, params=movie_params)  # Fetch movie details\n",
    "            \n",
    "            # Check if the detailed request was successful\n",
    "            if movie_response.status_code == 200:\n",
    "                movie_data = movie_response.json()  # Parse the detailed movie data\n",
    "                imdb_rating = movie_data.get(\"imdbRating\", \"N/A\")  # Get IMDb rating\n",
    "                \n",
    "                # If IMDb rating is available, add title and rating to the lists\n",
    "                if imdb_rating != \"N/A\":\n",
    "                    titles.append(movie.get(\"Title\"))  # Add movie title\n",
    "                    ratings.append(float(imdb_rating))  # Add IMDb rating as a float\n",
    "        \n",
    "        # If any movies have ratings, plot them\n",
    "        if titles and ratings:\n",
    "            # Create a horizontal bar chart\n",
    "            plt.barh(titles, ratings, color='yellow')\n",
    "            plt.xlabel('IMDb Rating')  # Label for the X-axis\n",
    "            plt.title(f'IMDb Ratings of Movies with \"{movie_title}\" in the Title')  # Chart title\n",
    "            plt.xlim(0, 10)  # IMDb ratings range from 0 to 10\n",
    "            plt.show()  # Display the chart\n",
    "        else:\n",
    "            print(f\"No IMDb ratings available for movies with the title '{movie_title}'.\")\n",
    "    \n",
    "    else:\n",
    "        print(f\"Error: {data.get('Error')}\")  # Print the error from OMDb API\n",
    "else:\n",
    "    print(f\"Error fetching movie data: {response.status_code}\")  # Print the HTTP status code error\n"
   ]
  },
  {
   "cell_type": "code",
   "execution_count": null,
   "id": "223fc720-f764-48be-8487-5f197b1b89b3",
   "metadata": {},
   "outputs": [],
   "source": []
  },
  {
   "cell_type": "code",
   "execution_count": 10,
   "id": "abe7d59c-aa46-4e84-82d0-dadfa15373fd",
   "metadata": {},
   "outputs": [
    {
     "name": "stdin",
     "output_type": "stream",
     "text": [
      "Enter movie name:  home alone\n"
     ]
    },
    {
     "name": "stdout",
     "output_type": "stream",
     "text": [
      "Movies data saved successfully!\n"
     ]
    }
   ],
   "source": [
    "import requests\n",
    "import csv\n",
    "\n",
    "API_KEY = '874ded9d'\n",
    "movie_title = input(\"Enter movie name: \")\n",
    "api_url = \"http://www.omdbapi.com/\"\n",
    "\n",
    "# Fetch search results\n",
    "search_response = requests.get(api_url, params={\"apikey\": API_KEY, \"s\": movie_title})\n",
    "search_data = search_response.json()\n",
    "\n",
    "if search_data.get('Response') == 'True':\n",
    "    # Extract movie IDs from search results\n",
    "    movies = search_data.get('Search', [])\n",
    "    \n",
    "    # Specify CSV fields\n",
    "    fields = ['Title', 'Year', 'Director', 'Actors', 'Genre', 'imdbRating','imdbID']\n",
    "    \n",
    "    with open(\"C:/Users/ezepayooner/OneDrive/home_alone5.csv\", 'w', newline='') as csv_file:\n",
    "        writer = csv.DictWriter(csv_file, fieldnames=fields)\n",
    "        writer.writeheader()\n",
    "        \n",
    "        for movie in movies:\n",
    "            # Fetch detailed movie data\n",
    "            movie_detail_response = requests.get(api_url, params={\"apikey\": API_KEY, \"i\": movie['imdbID']})\n",
    "            movie_detail = movie_detail_response.json()\n",
    "            \n",
    "            # Write data to CSV\n",
    "            writer.writerow({\n",
    "                'Title': movie_detail.get('Title', 'N/A'),\n",
    "                'Year': movie_detail.get('Year', 'N/A'),\n",
    "                'Director': movie_detail.get('Director', 'N/A'),\n",
    "                'Actors': movie_detail.get('Actors', 'N/A'),\n",
    "                'Genre': movie_detail.get('Genre', 'N/A'),\n",
    "                'imdbRating': movie_detail.get('imdbRating', 'N/A'),\n",
    "                'imdbID': movie_detail.get('imdbID', 'N/A'),\n",
    "            })\n",
    "\n",
    "    print(\"Movies data saved successfully!\")\n",
    "else:\n",
    "    print(f\"Movie not found: {search_data.get('Error', 'Unknown error')}\")\n"
   ]
  },
  {
   "cell_type": "code",
   "execution_count": 13,
   "id": "75e9f516-f794-4c92-93e7-e7365414a53a",
   "metadata": {},
   "outputs": [
    {
     "name": "stdout",
     "output_type": "stream",
     "text": [
      "                                                    0\n",
      "0   Title,Year,Director,Actors,Genre,imdbRating,im...\n",
      "1   Home Alone,1990,Chris Columbus,\"Macaulay Culki...\n",
      "2   Home Alone 2: Lost in New York,1992,Chris Colu...\n",
      "3   Home Alone 3,1997,Raja Gosnell,\"Alex D. Linz, ...\n",
      "4   Home Alone 4: Taking Back the House,2002,Rod D...\n",
      "5   A Girl Walks Home Alone at Night,2014,Ana Lily...\n",
      "6   Home Sweet Home Alone,2021,Dan Mazer,\"Ellie Ke...\n",
      "7   Home Alone: The Holiday Heist,2012,Peter Hewit...\n",
      "8   Home Alone 4,2002,Rod Daniel,\"Erick Avari, Bar...\n",
      "9   Google Assistant: Home Alone Again,2018,Mike W...\n",
      "10  \"Home, Not Alone\",2023,Amy Barrett,\"Andrea Bog...\n"
     ]
    }
   ],
   "source": [
    "import pandas as pd\n",
    "x=open(\"C:/Users/ezepayooner/OneDrive/home_alone5.csv\",\"r\")\n",
    "print(pd.DataFrame(x))\n"
   ]
  },
  {
   "cell_type": "code",
   "execution_count": null,
   "id": "3fb83470-eaff-4532-92a1-1458387047bd",
   "metadata": {},
   "outputs": [],
   "source": []
  }
 ],
 "metadata": {
  "kernelspec": {
   "display_name": "Python 3 (ipykernel)",
   "language": "python",
   "name": "python3"
  },
  "language_info": {
   "codemirror_mode": {
    "name": "ipython",
    "version": 3
   },
   "file_extension": ".py",
   "mimetype": "text/x-python",
   "name": "python",
   "nbconvert_exporter": "python",
   "pygments_lexer": "ipython3",
   "version": "3.12.4"
  }
 },
 "nbformat": 4,
 "nbformat_minor": 5
}
