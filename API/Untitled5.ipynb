{
 "cells": [
  {
   "cell_type": "code",
   "execution_count": 2,
   "id": "4d653eae-7d97-425c-a520-a2ae23dc8ece",
   "metadata": {},
   "outputs": [],
   "source": [
    "import requests\n",
    "from bs4 import BeautifulSoup\n",
    "\n",
    "# Step 1: Define the URL for the men's clothing section\n",
    "url = \"https://www.walmart.com/cp/mens-clothing/5438\"\n",
    "\n",
    "# Step 2: Send a GET request to the website\n",
    "headers = {\n",
    "    \"User-Agent\": \"Mozilla/5.0 (Windows NT 10.0; Win64; x64) AppleWebKit/537.36 (KHTML, like Gecko) Chrome/58.0.3029.110 Safari/537.36\"\n",
    "}\n",
    "response = requests.get(url, headers=headers)\n",
    "\n",
    "# Step 3: Parse the HTML content using BeautifulSoup\n",
    "soup = BeautifulSoup(response.content, \"html.parser\")\n",
    "\n",
    "# Step 4: Extract product titles and prices (or other data of interest)\n",
    "# You will need to inspect the specific tags and classes used by Walmart\n",
    "\n",
    "# Example: Finding product titles\n",
    "product_titles = soup.find_all('a', class_='flex flex-wrap w-100 flex-grow-0 flex-shrink-0 ph2 pr0-xl pl4-xl mt0-xl')  # Class names may differ, inspect the actual site\n",
    "\n",
    "# Print each product title\n",
    "for title in product_titles:\n",
    "    print(title.text)\n",
    "\n",
    "# Example: Finding product prices\n",
    "product_prices = soup.find_all('span', class_='flex flex-wrap w-100 flex-grow-0 flex-shrink-0 ph2 pr0-xl pl4-xl mt0-xl')  # Class names may differ, inspect the actual site\n",
    "\n",
    "# Print each product price\n",
    "for price in product_prices:\n",
    "    print(price.text)\n"
   ]
  },
  {
   "cell_type": "code",
   "execution_count": null,
   "id": "853fecf7-df02-4d48-b095-c202fc751e09",
   "metadata": {},
   "outputs": [],
   "source": []
  },
  {
   "cell_type": "code",
   "execution_count": null,
   "id": "9bc9350b-5c13-4400-9b88-f8fb2ee82aa5",
   "metadata": {},
   "outputs": [],
   "source": []
  }
 ],
 "metadata": {
  "kernelspec": {
   "display_name": "Python 3 (ipykernel)",
   "language": "python",
   "name": "python3"
  },
  "language_info": {
   "codemirror_mode": {
    "name": "ipython",
    "version": 3
   },
   "file_extension": ".py",
   "mimetype": "text/x-python",
   "name": "python",
   "nbconvert_exporter": "python",
   "pygments_lexer": "ipython3",
   "version": "3.12.4"
  }
 },
 "nbformat": 4,
 "nbformat_minor": 5
}
