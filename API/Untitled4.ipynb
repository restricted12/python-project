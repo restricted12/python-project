{
 "cells": [
  {
   "cell_type": "code",
   "execution_count": 8,
   "id": "a4620fd5-037f-4d6b-81f2-3ecb1aae46ac",
   "metadata": {},
   "outputs": [],
   "source": [
    "import requests\n",
    "from bs4 import BeautifulSoup\n",
    "\n",
    "def scrape_ebay(query):\n",
    "    # URL for eBay search results\n",
    "    url = f'https://www.ebay.com/sch/i.html?_nkw={query}'\n",
    "\n",
    "    # Send a request to the URL\n",
    "    headers = {\n",
    "        'User-Agent': 'Mozilla/5.0 (Windows NT 10.0; Win64; x64) AppleWebKit/537.36 (KHTML, like Gecko) Chrome/92.0.4515.107 Safari/537.36'\n",
    "    }\n",
    "    response = requests.get(url, headers=headers)\n",
    "\n",
    "    # Check if the request was successful\n",
    "    if response.status_code == 200:\n",
    "        # Parse the HTML content\n",
    "        soup = BeautifulSoup(response.content, 'html.parser')\n",
    "\n",
    "        # Find the items in the search results\n",
    "        items = soup.find_all('div', class_='s-item__info')\n",
    "\n",
    "        for item in items:\n",
    "            title = item.find('h3', class_='s-item__title')\n",
    "            price = item.find('span', class_='s-item__price')\n",
    "            link = item.find('a', class_='s-item__link')\n",
    "\n",
    "            if title and price and link:\n",
    "                print(f'Title: {title.text}')\n",
    "                print(f'Price: {price.text}')\n",
    "                print(f'Link: {link[\"href\"]}')\n",
    "                print('-' * 20)\n",
    "    else:\n",
    "        print(f'Error: {response.status_code}')\n",
    "\n",
    "# Example usage\n",
    "scrape_ebay('laptop')\n"
   ]
  },
  {
   "cell_type": "code",
   "execution_count": 11,
   "id": "eb6d96b0-c4e2-4aa4-a7f7-7ca09f5576b0",
   "metadata": {},
   "outputs": [
    {
     "name": "stdout",
     "output_type": "stream",
     "text": [
      "Headers: []\n",
      "['Enter your search keyword', 'All CategoriesAntiques Art Baby Books & Magazines Business & Industrial Cameras & Photo Cell Phones & Accessories Clothing, Shoes & Accessories Coins & Paper Money Collectibles Computers/Tablets & Networking Consumer Electronics Crafts Dolls & Bears Entertainment Memorabilia Everything Else Gift Cards & Coupons Health & Beauty Home & Garden Jewelry & Watches Movies & TV Music Musical Instruments & Gear Pet Supplies Pottery & Glass Real Estate Specialty Services Sporting Goods Sports Mem, Cards & Fan Shop Stamps Tickets & Experiences Toys & Hobbies Travel Video Games & Consoles']\n"
     ]
    }
   ],
   "source": [
    "import requests\n",
    "from bs4 import BeautifulSoup\n",
    "\n",
    "url = \"https://www.ebay.com/sch/i.html?_nkw=laptop\"\n",
    "response = requests.get(url)\n",
    "soup = BeautifulSoup(response.content, \"html.parser\")\n",
    "\n",
    "# Find the table by tag <table> or by class if necessary\n",
    "table = soup.find('table')  # You can use soup.find('table', {'class': 'table_class'}) to be more specific\n",
    "\n",
    "if table is None:\n",
    "    print(\"Table not found\")\n",
    "else:\n",
    "    headers = [header.get_text() for header in table.find_all('th')]\n",
    "# Extract rows of the table\n",
    "rows = table.find_all('tr')\n",
    "table_data = []\n",
    "\n",
    "# Loop through rows to extract data from <td> tags\n",
    "for row in rows[1:]:  # Skipping the header row\n",
    "    cols = row.find_all('td')\n",
    "    cols = [col.get_text().strip() for col in cols]  # Clean up data\n",
    "    table_data.append(cols)\n",
    "\n",
    "# Display table data\n",
    "print(\"Headers:\", headers)\n",
    "for row in table_data:\n",
    "    print(row)"
   ]
  },
  {
   "cell_type": "code",
   "execution_count": 12,
   "id": "b8b61ea6-64f9-4828-a387-1167f402cece",
   "metadata": {},
   "outputs": [
    {
     "name": "stdout",
     "output_type": "stream",
     "text": [
      "No laptops found.\n"
     ]
    }
   ],
   "source": [
    "import requests\n",
    "from bs4 import BeautifulSoup\n",
    "\n",
    "# URL for eBay search results for laptops\n",
    "url = \"https://www.ebay.com/sch/i.html?_nkw=laptop\"\n",
    "response = requests.get(url)\n",
    "\n",
    "# Check if the request was successful\n",
    "if response.status_code == 200:\n",
    "    soup = BeautifulSoup(response.content, \"html.parser\")\n",
    "\n",
    "    # Find items in the search results\n",
    "    items = soup.find_all('div', class_='s-item__info')\n",
    "\n",
    "    # List to hold laptop details\n",
    "    laptops = []\n",
    "\n",
    "    for item in items:\n",
    "        title = item.find('h3', class_='s-item__title')\n",
    "        price = item.find('span', class_='s-item__price')\n",
    "        link = item.find('a', class_='s-item__link')\n",
    "\n",
    "        # Collect details if all elements are found\n",
    "        if title and price and link:\n",
    "            laptops.append({\n",
    "                'Title': title.text,\n",
    "                'Price': price.text,\n",
    "                'Link': link['href']\n",
    "            })\n",
    "\n",
    "    # Display the list of laptops\n",
    "    if laptops:\n",
    "        print(\"Laptops found:\")\n",
    "        for laptop in laptops:\n",
    "            print(f\"Title: {laptop['Title']}\")\n",
    "            print(f\"Price: {laptop['Price']}\")\n",
    "            print(f\"Link: {laptop['Link']}\")\n",
    "            print('-' * 20)\n",
    "    else:\n",
    "        print(\"No laptops found.\")\n",
    "else:\n",
    "    print(f\"Error: {response.status_code}\")\n"
   ]
  },
  {
   "cell_type": "code",
   "execution_count": null,
   "id": "dc9a0922-2206-4739-a025-ba282f70a4a9",
   "metadata": {},
   "outputs": [],
   "source": []
  }
 ],
 "metadata": {
  "kernelspec": {
   "display_name": "Python 3 (ipykernel)",
   "language": "python",
   "name": "python3"
  },
  "language_info": {
   "codemirror_mode": {
    "name": "ipython",
    "version": 3
   },
   "file_extension": ".py",
   "mimetype": "text/x-python",
   "name": "python",
   "nbconvert_exporter": "python",
   "pygments_lexer": "ipython3",
   "version": "3.12.4"
  }
 },
 "nbformat": 4,
 "nbformat_minor": 5
}
