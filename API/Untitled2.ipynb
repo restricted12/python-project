{
 "cells": [
  {
   "cell_type": "code",
   "execution_count": 1,
   "id": "aad6b74e-bf61-4f70-af77-54846bf8f5f2",
   "metadata": {},
   "outputs": [
    {
     "ename": "NameError",
     "evalue": "name 'os' is not defined",
     "output_type": "error",
     "traceback": [
      "\u001b[1;31m---------------------------------------------------------------------------\u001b[0m",
      "\u001b[1;31mNameError\u001b[0m                                 Traceback (most recent call last)",
      "Cell \u001b[1;32mIn[1], line 1\u001b[0m\n\u001b[1;32m----> 1\u001b[0m api_key \u001b[38;5;241m=\u001b[39m os\u001b[38;5;241m.\u001b[39mgetenv(\u001b[38;5;124m\"\u001b[39m\u001b[38;5;124m874ded9d\u001b[39m\u001b[38;5;124m\"\u001b[39m)  \u001b[38;5;66;03m# Use the name of the environment variable\u001b[39;00m\n\u001b[0;32m      2\u001b[0m bot_token \u001b[38;5;241m=\u001b[39m os\u001b[38;5;241m.\u001b[39mgetenv(\u001b[38;5;124m\"\u001b[39m\u001b[38;5;124m7492550390:AAFh-x04LFBxrb-3h-HUc0dg7gn0VcUnco8\u001b[39m\u001b[38;5;124m\"\u001b[39m)\n",
      "\u001b[1;31mNameError\u001b[0m: name 'os' is not defined"
     ]
    }
   ],
   "source": []
  },
  {
   "cell_type": "code",
   "execution_count": 7,
   "id": "810b7c8f-0fec-4124-beb0-e914704cba9b",
   "metadata": {},
   "outputs": [
    {
     "ename": "ValueError",
     "evalue": "No Telegram bot token provided. Set the TELEGRAM_BOT_TOKEN environment variable.",
     "output_type": "error",
     "traceback": [
      "\u001b[1;31m---------------------------------------------------------------------------\u001b[0m",
      "\u001b[1;31mValueError\u001b[0m                                Traceback (most recent call last)",
      "Cell \u001b[1;32mIn[7], line 62\u001b[0m\n\u001b[0;32m     59\u001b[0m     updater\u001b[38;5;241m.\u001b[39midle()\n\u001b[0;32m     61\u001b[0m \u001b[38;5;28;01mif\u001b[39;00m \u001b[38;5;18m__name__\u001b[39m \u001b[38;5;241m==\u001b[39m \u001b[38;5;124m'\u001b[39m\u001b[38;5;124m__main__\u001b[39m\u001b[38;5;124m'\u001b[39m:\n\u001b[1;32m---> 62\u001b[0m     main()\n",
      "Cell \u001b[1;32mIn[7], line 49\u001b[0m, in \u001b[0;36mmain\u001b[1;34m()\u001b[0m\n\u001b[0;32m     47\u001b[0m bot_token \u001b[38;5;241m=\u001b[39m os\u001b[38;5;241m.\u001b[39mgetenv(\u001b[38;5;124m'\u001b[39m\u001b[38;5;124m7492550390:AAFh-x04LFBxrb-3h-HUc0dg7gn0VcUnco8\u001b[39m\u001b[38;5;124m'\u001b[39m)  \u001b[38;5;66;03m# Use the environment variable name\u001b[39;00m\n\u001b[0;32m     48\u001b[0m \u001b[38;5;28;01mif\u001b[39;00m \u001b[38;5;129;01mnot\u001b[39;00m bot_token:\n\u001b[1;32m---> 49\u001b[0m     \u001b[38;5;28;01mraise\u001b[39;00m \u001b[38;5;167;01mValueError\u001b[39;00m(\u001b[38;5;124m\"\u001b[39m\u001b[38;5;124mNo Telegram bot token provided. Set the TELEGRAM_BOT_TOKEN environment variable.\u001b[39m\u001b[38;5;124m\"\u001b[39m)\n\u001b[0;32m     51\u001b[0m updater \u001b[38;5;241m=\u001b[39m Updater(bot_token, use_context\u001b[38;5;241m=\u001b[39m\u001b[38;5;28;01mTrue\u001b[39;00m)\n\u001b[0;32m     52\u001b[0m dispatcher \u001b[38;5;241m=\u001b[39m updater\u001b[38;5;241m.\u001b[39mdispatcher\n",
      "\u001b[1;31mValueError\u001b[0m: No Telegram bot token provided. Set the TELEGRAM_BOT_TOKEN environment variable."
     ]
    }
   ],
   "source": [
    "from telegram import Update\n",
    "from telegram.ext import Updater, CommandHandler, CallbackContext\n",
    "import requests\n",
    "import os\n",
    "\n",
    "# Define the API URL and key (use environment variables for sensitive information)\n",
    "api_key = os.getenv(\"874ded9d\")  # Use the environment variable name\n",
    "api_url = \"http://www.omdbapi.com/\"\n",
    "\n",
    "# Define a function to search for movies\n",
    "def search_movie(movie_title):\n",
    "    params = {\n",
    "        \"apikey\": api_key,\n",
    "        \"s\": movie_title\n",
    "    }\n",
    "    try:\n",
    "        response = requests.get(api_url, params=params)\n",
    "        response.raise_for_status()  # Raise HTTPError for bad responses\n",
    "        data = response.json()\n",
    "        if data['Response'] == 'True':\n",
    "            return data\n",
    "        else:\n",
    "            return {\"Error\": data.get('Error', 'No results found')}\n",
    "    except requests.RequestException as e:\n",
    "        return {\"Error\": f\"Failed to connect to the API: {str(e)}\"}\n",
    "\n",
    "# Define a command handler for searching movies\n",
    "def search(update: Update, context: CallbackContext) -> None:\n",
    "    if context.args:\n",
    "        movie_title = ' '.join(context.args)\n",
    "        result = search_movie(movie_title)\n",
    "        if 'Error' in result:\n",
    "            update.message.reply_text(result['Error'])\n",
    "        else:\n",
    "            movies = result.get('Search', [])\n",
    "            if movies:\n",
    "                response_message = \"\\n\".join([f\"{movie['Title']} ({movie['Year']})\" for movie in movies])\n",
    "            else:\n",
    "                response_message = \"No movies found.\"\n",
    "            update.message.reply_text(response_message)\n",
    "    else:\n",
    "        update.message.reply_text(\"Please provide a movie title after the command. Example: /search Inception\")\n",
    "\n",
    "# Main function to start the bot\n",
    "def main():\n",
    "    # Access the bot API token from the environment variable\n",
    "    bot_token = os.getenv('7492550390:AAFh-x04LFBxrb-3h-HUc0dg7gn0VcUnco8')  # Use the environment variable name\n",
    "    if not bot_token:\n",
    "        raise ValueError(\"No Telegram bot token provided. Set the TELEGRAM_BOT_TOKEN environment variable.\")\n",
    "\n",
    "    updater = Updater(bot_token, use_context=True)\n",
    "    dispatcher = updater.dispatcher\n",
    "\n",
    "    # Register command handlers\n",
    "    dispatcher.add_handler(CommandHandler(\"search\", search))\n",
    "\n",
    "    # Start the Bot\n",
    "    updater.start_polling()\n",
    "    updater.idle()\n",
    "\n",
    "if __name__ == '__main__':\n",
    "    main()\n"
   ]
  },
  {
   "cell_type": "code",
   "execution_count": 6,
   "id": "b64d4adb-23f0-4d00-80b4-f3bfd2b48978",
   "metadata": {},
   "outputs": [],
   "source": [
    "api_key = os.getenv(\"874ded9d\")  # Use the name of the environment variable\n",
    "bot_token = os.getenv(\"7492550390:AAFh-x04LFBxrb-3h-HUc0dg7gn0VcUnco8\")  # Use the name of the environment variable"
   ]
  },
  {
   "cell_type": "code",
   "execution_count": null,
   "id": "962d4cd9-e8ae-493c-b94d-7c15802a863b",
   "metadata": {},
   "outputs": [],
   "source": [
    "export OMDB_API_KEY='your_omdb_api_key_here'\n",
    "export TELEGRAM_BOT_TOKEN='your_telegram_bot_token_here'\n"
   ]
  }
 ],
 "metadata": {
  "kernelspec": {
   "display_name": "Python 3 (ipykernel)",
   "language": "python",
   "name": "python3"
  },
  "language_info": {
   "codemirror_mode": {
    "name": "ipython",
    "version": 3
   },
   "file_extension": ".py",
   "mimetype": "text/x-python",
   "name": "python",
   "nbconvert_exporter": "python",
   "pygments_lexer": "ipython3",
   "version": "3.12.4"
  }
 },
 "nbformat": 4,
 "nbformat_minor": 5
}
